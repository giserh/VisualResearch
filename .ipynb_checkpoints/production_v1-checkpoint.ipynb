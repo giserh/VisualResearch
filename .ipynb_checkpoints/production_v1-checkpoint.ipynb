{
 "cells": [
  {
   "cell_type": "code",
   "execution_count": null,
   "metadata": {},
   "outputs": [],
   "source": []
  },
  {
   "cell_type": "code",
   "execution_count": 1,
   "metadata": {},
   "outputs": [],
   "source": [
    "data = open('creatures.txt')"
   ]
  },
  {
   "cell_type": "code",
   "execution_count": 2,
   "metadata": {},
   "outputs": [
    {
     "name": "stdout",
     "output_type": "stream",
     "text": [
      "<_io.TextIOWrapper name='creatures.txt' mode='r' encoding='UTF-8'>\n"
     ]
    }
   ],
   "source": [
    "print(data)"
   ]
  },
  {
   "cell_type": "code",
   "execution_count": 3,
   "metadata": {},
   "outputs": [
    {
     "data": {
      "text/plain": [
       "\"Cave and underground\\nDwarf\\nEuropean dragon\\nGnome\\nGoblin\\nGolem\\nGrootslang\\nLeprechaun\\nTroll\\nYaoguai\\n\\nCelestial and heaven\\nAngel\\nAsteriae\\nDeva / Devi\\nFeathered serpent\\nPegasus\\nGrim Reaper\\nSwan Maiden\\nTennin\\nThree-legged bird\\nValkyrie\\n\\nDesert\\nAmphisbaena\\nBasilisk\\nCockatrice\\nGhoul\\nMongolian Death Worm\\nSphinx\\n\\nTemperate forest and woodland\\nAjatar\\nBigfoot\\nDryad\\nElf\\nLeshy\\nGreen Man\\nOwlman\\nUnicorn\\nSatyr\\nWaldgeist\\n\\nTropical forest and jungle\\nCurupira\\nDingonek\\nMapinguari\\nMan-eating tree\\nManticore\\nSaci\\nUmdhlebi\\n\\nTemperate grassland and garden\\nFairy\\nGnome\\n\\nSavanna\\nEnnedi tiger\\nWerehyena\\n\\nLake and river\\nAhuitzotl\\nBunyip\\nChinese dragon\\nDobhar-chú\\nEncantado\\nGrootslang\\nIara\\nJiaolong\\nKappa\\nKelpie\\nLake monster\\nHydra\\nLoch Ness Monster\\nMizuchi\\nNaiad\\nNixie\\nOgopogo\\nOndine\\nRainbow serpent\\nRusalka\\nRyujin\\nShellycoat\\nWarlock\\nYacuruna\\n\\nMountain and hill\\nDwarf\\nFenghuang\\nGriffin\\nHippogriff\\nMountain Giant\\nOlitiau\\nOread\\nPatupaiarehe\\nSatyr\\nTengu\\nYeti\\n\\nSea\\nBishop-fish\\nCharybdis\\nDragon King\\nFish People\\nHippocamp\\nLeviathan\\nJormungand\\nKraken\\nMermaid / Merman\\nNereid\\nSea monk\\nSea monster\\nSea serpent\\nSelkie\\nShen\\nSiren\\nTritons\\nUmibōzu\\nWater Dragon\\nYacuruna\\n\\nSwamp and marsh\\nBunyip\\nGrootslang\\nLernaean Hydra\\nHoney island swamp monster\\nMokele-mbembe\\nSwamp monster\\nWill-o'-the-wisp\\n\\nVolcano and lava\\nCherufe\\nPhoenix\\nSalamander\\n\\nPolar, ice, and winter\\nAkhlut\\nAmarok\\nBarbegazi\\nHrimthurs\\nIjiraq\\nJotun\\nQiqirn\\nSaumen Kar\\nTizheruk\\nWendigo\\nYeti\\nYmir\\nYuki-onna\\n\\nUrban and house\\nBanshee\\nBoggart\\nBrownie\\nDomovoi (Slavic house spirit)\\nDvorovoi (Slavic yard spirit)\\nDuende\\nJinn\\nKobold\\nTomte\\nVampire\\nZashiki-warashi\\n\\nUnderworld and hell\\nAmmit\\nCerberus\\nCyclops\\nDemon\\nDevil\\nEarth Dragon\\nGarm\\nHekatonkheires\\nHellhound\\nIfrit\\nOx-Head and Horse-Face\\nPreta\\n\""
      ]
     },
     "execution_count": 3,
     "metadata": {},
     "output_type": "execute_result"
    }
   ],
   "source": [
    "data.read()"
   ]
  },
  {
   "cell_type": "code",
   "execution_count": 4,
   "metadata": {},
   "outputs": [],
   "source": [
    "with open ('creatures.txt') as data:\n",
    "    dataRaw = data.readlines()"
   ]
  },
  {
   "cell_type": "code",
   "execution_count": 5,
   "metadata": {},
   "outputs": [
    {
     "data": {
      "text/plain": [
       "['Cave and underground\\n',\n",
       " 'Dwarf\\n',\n",
       " 'European dragon\\n',\n",
       " 'Gnome\\n',\n",
       " 'Goblin\\n',\n",
       " 'Golem\\n',\n",
       " 'Grootslang\\n',\n",
       " 'Leprechaun\\n',\n",
       " 'Troll\\n',\n",
       " 'Yaoguai\\n',\n",
       " '\\n',\n",
       " 'Celestial and heaven\\n',\n",
       " 'Angel\\n',\n",
       " 'Asteriae\\n',\n",
       " 'Deva / Devi\\n',\n",
       " 'Feathered serpent\\n',\n",
       " 'Pegasus\\n',\n",
       " 'Grim Reaper\\n',\n",
       " 'Swan Maiden\\n',\n",
       " 'Tennin\\n',\n",
       " 'Three-legged bird\\n',\n",
       " 'Valkyrie\\n',\n",
       " '\\n',\n",
       " 'Desert\\n',\n",
       " 'Amphisbaena\\n',\n",
       " 'Basilisk\\n',\n",
       " 'Cockatrice\\n',\n",
       " 'Ghoul\\n',\n",
       " 'Mongolian Death Worm\\n',\n",
       " 'Sphinx\\n',\n",
       " '\\n',\n",
       " 'Temperate forest and woodland\\n',\n",
       " 'Ajatar\\n',\n",
       " 'Bigfoot\\n',\n",
       " 'Dryad\\n',\n",
       " 'Elf\\n',\n",
       " 'Leshy\\n',\n",
       " 'Green Man\\n',\n",
       " 'Owlman\\n',\n",
       " 'Unicorn\\n',\n",
       " 'Satyr\\n',\n",
       " 'Waldgeist\\n',\n",
       " '\\n',\n",
       " 'Tropical forest and jungle\\n',\n",
       " 'Curupira\\n',\n",
       " 'Dingonek\\n',\n",
       " 'Mapinguari\\n',\n",
       " 'Man-eating tree\\n',\n",
       " 'Manticore\\n',\n",
       " 'Saci\\n',\n",
       " 'Umdhlebi\\n',\n",
       " '\\n',\n",
       " 'Temperate grassland and garden\\n',\n",
       " 'Fairy\\n',\n",
       " 'Gnome\\n',\n",
       " '\\n',\n",
       " 'Savanna\\n',\n",
       " 'Ennedi tiger\\n',\n",
       " 'Werehyena\\n',\n",
       " '\\n',\n",
       " 'Lake and river\\n',\n",
       " 'Ahuitzotl\\n',\n",
       " 'Bunyip\\n',\n",
       " 'Chinese dragon\\n',\n",
       " 'Dobhar-chú\\n',\n",
       " 'Encantado\\n',\n",
       " 'Grootslang\\n',\n",
       " 'Iara\\n',\n",
       " 'Jiaolong\\n',\n",
       " 'Kappa\\n',\n",
       " 'Kelpie\\n',\n",
       " 'Lake monster\\n',\n",
       " 'Hydra\\n',\n",
       " 'Loch Ness Monster\\n',\n",
       " 'Mizuchi\\n',\n",
       " 'Naiad\\n',\n",
       " 'Nixie\\n',\n",
       " 'Ogopogo\\n',\n",
       " 'Ondine\\n',\n",
       " 'Rainbow serpent\\n',\n",
       " 'Rusalka\\n',\n",
       " 'Ryujin\\n',\n",
       " 'Shellycoat\\n',\n",
       " 'Warlock\\n',\n",
       " 'Yacuruna\\n',\n",
       " '\\n',\n",
       " 'Mountain and hill\\n',\n",
       " 'Dwarf\\n',\n",
       " 'Fenghuang\\n',\n",
       " 'Griffin\\n',\n",
       " 'Hippogriff\\n',\n",
       " 'Mountain Giant\\n',\n",
       " 'Olitiau\\n',\n",
       " 'Oread\\n',\n",
       " 'Patupaiarehe\\n',\n",
       " 'Satyr\\n',\n",
       " 'Tengu\\n',\n",
       " 'Yeti\\n',\n",
       " '\\n',\n",
       " 'Sea\\n',\n",
       " 'Bishop-fish\\n',\n",
       " 'Charybdis\\n',\n",
       " 'Dragon King\\n',\n",
       " 'Fish People\\n',\n",
       " 'Hippocamp\\n',\n",
       " 'Leviathan\\n',\n",
       " 'Jormungand\\n',\n",
       " 'Kraken\\n',\n",
       " 'Mermaid / Merman\\n',\n",
       " 'Nereid\\n',\n",
       " 'Sea monk\\n',\n",
       " 'Sea monster\\n',\n",
       " 'Sea serpent\\n',\n",
       " 'Selkie\\n',\n",
       " 'Shen\\n',\n",
       " 'Siren\\n',\n",
       " 'Tritons\\n',\n",
       " 'Umibōzu\\n',\n",
       " 'Water Dragon\\n',\n",
       " 'Yacuruna\\n',\n",
       " '\\n',\n",
       " 'Swamp and marsh\\n',\n",
       " 'Bunyip\\n',\n",
       " 'Grootslang\\n',\n",
       " 'Lernaean Hydra\\n',\n",
       " 'Honey island swamp monster\\n',\n",
       " 'Mokele-mbembe\\n',\n",
       " 'Swamp monster\\n',\n",
       " \"Will-o'-the-wisp\\n\",\n",
       " '\\n',\n",
       " 'Volcano and lava\\n',\n",
       " 'Cherufe\\n',\n",
       " 'Phoenix\\n',\n",
       " 'Salamander\\n',\n",
       " '\\n',\n",
       " 'Polar, ice, and winter\\n',\n",
       " 'Akhlut\\n',\n",
       " 'Amarok\\n',\n",
       " 'Barbegazi\\n',\n",
       " 'Hrimthurs\\n',\n",
       " 'Ijiraq\\n',\n",
       " 'Jotun\\n',\n",
       " 'Qiqirn\\n',\n",
       " 'Saumen Kar\\n',\n",
       " 'Tizheruk\\n',\n",
       " 'Wendigo\\n',\n",
       " 'Yeti\\n',\n",
       " 'Ymir\\n',\n",
       " 'Yuki-onna\\n',\n",
       " '\\n',\n",
       " 'Urban and house\\n',\n",
       " 'Banshee\\n',\n",
       " 'Boggart\\n',\n",
       " 'Brownie\\n',\n",
       " 'Domovoi (Slavic house spirit)\\n',\n",
       " 'Dvorovoi (Slavic yard spirit)\\n',\n",
       " 'Duende\\n',\n",
       " 'Jinn\\n',\n",
       " 'Kobold\\n',\n",
       " 'Tomte\\n',\n",
       " 'Vampire\\n',\n",
       " 'Zashiki-warashi\\n',\n",
       " '\\n',\n",
       " 'Underworld and hell\\n',\n",
       " 'Ammit\\n',\n",
       " 'Cerberus\\n',\n",
       " 'Cyclops\\n',\n",
       " 'Demon\\n',\n",
       " 'Devil\\n',\n",
       " 'Earth Dragon\\n',\n",
       " 'Garm\\n',\n",
       " 'Hekatonkheires\\n',\n",
       " 'Hellhound\\n',\n",
       " 'Ifrit\\n',\n",
       " 'Ox-Head and Horse-Face\\n',\n",
       " 'Preta\\n']"
      ]
     },
     "execution_count": 5,
     "metadata": {},
     "output_type": "execute_result"
    }
   ],
   "source": [
    "dataRaw"
   ]
  },
  {
   "cell_type": "code",
   "execution_count": 6,
   "metadata": {},
   "outputs": [
    {
     "data": {
      "text/plain": [
       "False"
      ]
     },
     "execution_count": 6,
     "metadata": {},
     "output_type": "execute_result"
    }
   ],
   "source": [
    "dataRaw[0] == '\\n'"
   ]
  },
  {
   "cell_type": "code",
   "execution_count": 7,
   "metadata": {},
   "outputs": [
    {
     "name": "stdout",
     "output_type": "stream",
     "text": [
      "[1]\n"
     ]
    }
   ],
   "source": [
    "x = []\n",
    "x.append(1)\n",
    "print(x)"
   ]
  },
  {
   "cell_type": "code",
   "execution_count": 8,
   "metadata": {},
   "outputs": [],
   "source": [
    "def iterNames(list):\n",
    "    for i in list:\n",
    "        yield i"
   ]
  },
  {
   "cell_type": "code",
   "execution_count": 9,
   "metadata": {},
   "outputs": [
    {
     "ename": "NameError",
     "evalue": "name 'dataListTemp' is not defined",
     "output_type": "error",
     "traceback": [
      "\u001b[0;31m---------------------------------------------------------------------------\u001b[0m",
      "\u001b[0;31mNameError\u001b[0m                                 Traceback (most recent call last)",
      "\u001b[0;32m<ipython-input-9-7c07bbca795f>\u001b[0m in \u001b[0;36m<module>\u001b[0;34m()\u001b[0m\n\u001b[1;32m      1\u001b[0m \u001b[0mdict2\u001b[0m \u001b[0;34m=\u001b[0m \u001b[0;34m[\u001b[0m\u001b[0;34m]\u001b[0m\u001b[0;34m\u001b[0m\u001b[0m\n\u001b[0;32m----> 2\u001b[0;31m \u001b[0mdict2\u001b[0m\u001b[0;34m.\u001b[0m\u001b[0mappend\u001b[0m\u001b[0;34m(\u001b[0m\u001b[0miterNames\u001b[0m\u001b[0;34m(\u001b[0m\u001b[0mdataListTemp\u001b[0m\u001b[0;34m)\u001b[0m\u001b[0;34m)\u001b[0m\u001b[0;34m\u001b[0m\u001b[0m\n\u001b[0m\u001b[1;32m      3\u001b[0m \u001b[0mx\u001b[0m \u001b[0;34m=\u001b[0m \u001b[0mlist\u001b[0m\u001b[0;34m(\u001b[0m\u001b[0miterNames\u001b[0m\u001b[0;34m(\u001b[0m\u001b[0mdataListTemp\u001b[0m\u001b[0;34m)\u001b[0m\u001b[0;34m)\u001b[0m\u001b[0;34m\u001b[0m\u001b[0m\n\u001b[1;32m      4\u001b[0m \u001b[0mx\u001b[0m\u001b[0;34m\u001b[0m\u001b[0m\n\u001b[1;32m      5\u001b[0m \u001b[0;31m#тут я сделал из dataListTemp тоже самое чем он и является через итератор лол\u001b[0m\u001b[0;34m\u001b[0m\u001b[0;34m\u001b[0m\u001b[0m\n",
      "\u001b[0;31mNameError\u001b[0m: name 'dataListTemp' is not defined"
     ]
    }
   ],
   "source": [
    "dict2 = []\n",
    "dict2.append(iterNames(dataListTemp))\n",
    "x = list(iterNames(dataListTemp))\n",
    "x\n",
    "#тут я сделал из dataListTemp тоже самое чем он и является через итератор лол"
   ]
  },
  {
   "cell_type": "code",
   "execution_count": null,
   "metadata": {},
   "outputs": [],
   "source": [
    "#пытаюсь написать функцию которая будет брать с 3его эллемента и до конца\n",
    "dataListTemp[2:][2]"
   ]
  },
  {
   "cell_type": "code",
   "execution_count": 10,
   "metadata": {},
   "outputs": [
    {
     "ename": "NameError",
     "evalue": "name 'dataListTemp' is not defined",
     "output_type": "error",
     "traceback": [
      "\u001b[0;31m---------------------------------------------------------------------------\u001b[0m",
      "\u001b[0;31mNameError\u001b[0m                                 Traceback (most recent call last)",
      "\u001b[0;32m<ipython-input-10-f289ae59f2d0>\u001b[0m in \u001b[0;36m<module>\u001b[0;34m()\u001b[0m\n\u001b[1;32m      2\u001b[0m где первый эллемент ключ а последующие значения'''\n\u001b[1;32m      3\u001b[0m \u001b[0mtest\u001b[0m \u001b[0;34m=\u001b[0m \u001b[0;34m{\u001b[0m\u001b[0;34m}\u001b[0m\u001b[0;34m\u001b[0m\u001b[0m\n\u001b[0;32m----> 4\u001b[0;31m \u001b[0mtest\u001b[0m\u001b[0;34m.\u001b[0m\u001b[0mupdate\u001b[0m\u001b[0;34m(\u001b[0m\u001b[0;34m{\u001b[0m\u001b[0mdataListTemp\u001b[0m\u001b[0;34m[\u001b[0m\u001b[0;36m0\u001b[0m\u001b[0;34m]\u001b[0m\u001b[0;34m:\u001b[0m\u001b[0;34m[\u001b[0m\u001b[0mdataListTemp\u001b[0m\u001b[0;34m[\u001b[0m\u001b[0;36m1\u001b[0m\u001b[0;34m]\u001b[0m\u001b[0;34m]\u001b[0m\u001b[0;34m}\u001b[0m\u001b[0;34m)\u001b[0m\u001b[0;34m\u001b[0m\u001b[0m\n\u001b[0m\u001b[1;32m      5\u001b[0m \u001b[0;32mfor\u001b[0m \u001b[0mi\u001b[0m \u001b[0;32min\u001b[0m \u001b[0mrange\u001b[0m\u001b[0;34m(\u001b[0m\u001b[0mlen\u001b[0m\u001b[0;34m(\u001b[0m\u001b[0mdataListTemp\u001b[0m\u001b[0;34m[\u001b[0m\u001b[0;36m2\u001b[0m\u001b[0;34m:\u001b[0m\u001b[0;34m]\u001b[0m\u001b[0;34m)\u001b[0m\u001b[0;34m)\u001b[0m\u001b[0;34m:\u001b[0m\u001b[0;34m\u001b[0m\u001b[0m\n\u001b[1;32m      6\u001b[0m     \u001b[0mtest\u001b[0m\u001b[0;34m[\u001b[0m\u001b[0mdataListTemp\u001b[0m\u001b[0;34m[\u001b[0m\u001b[0;36m0\u001b[0m\u001b[0;34m]\u001b[0m\u001b[0;34m]\u001b[0m\u001b[0;34m.\u001b[0m\u001b[0mappend\u001b[0m\u001b[0;34m(\u001b[0m\u001b[0mdataListTemp\u001b[0m\u001b[0;34m[\u001b[0m\u001b[0;36m2\u001b[0m\u001b[0;34m:\u001b[0m\u001b[0;34m]\u001b[0m\u001b[0;34m[\u001b[0m\u001b[0mi\u001b[0m\u001b[0;34m]\u001b[0m\u001b[0;34m)\u001b[0m\u001b[0;34m\u001b[0m\u001b[0m\n",
      "\u001b[0;31mNameError\u001b[0m: name 'dataListTemp' is not defined"
     ]
    }
   ],
   "source": [
    "'''помещаю результат темп списка в словарь\n",
    "где первый эллемент ключ а последующие значения'''\n",
    "test = {}\n",
    "test.update({dataListTemp[0]:[dataListTemp[1]]})\n",
    "for i in range(len(dataListTemp[2:])):\n",
    "    test[dataListTemp[0]].append(dataListTemp[2:][i])\n",
    "test"
   ]
  },
  {
   "cell_type": "code",
   "execution_count": 11,
   "metadata": {},
   "outputs": [
    {
     "ename": "NameError",
     "evalue": "name 'dataListTemp' is not defined",
     "output_type": "error",
     "traceback": [
      "\u001b[0;31m---------------------------------------------------------------------------\u001b[0m",
      "\u001b[0;31mNameError\u001b[0m                                 Traceback (most recent call last)",
      "\u001b[0;32m<ipython-input-11-a9ebc4771bec>\u001b[0m in \u001b[0;36m<module>\u001b[0;34m()\u001b[0m\n\u001b[0;32m----> 1\u001b[0;31m \u001b[0mdataListTemp\u001b[0m\u001b[0;34m\u001b[0m\u001b[0m\n\u001b[0m",
      "\u001b[0;31mNameError\u001b[0m: name 'dataListTemp' is not defined"
     ]
    }
   ],
   "source": [
    "dataListTemp"
   ]
  },
  {
   "cell_type": "code",
   "execution_count": 12,
   "metadata": {},
   "outputs": [
    {
     "ename": "NameError",
     "evalue": "name 'dataListTemp' is not defined",
     "output_type": "error",
     "traceback": [
      "\u001b[0;31m---------------------------------------------------------------------------\u001b[0m",
      "\u001b[0;31mNameError\u001b[0m                                 Traceback (most recent call last)",
      "\u001b[0;32m<ipython-input-12-60d913ea2725>\u001b[0m in \u001b[0;36m<module>\u001b[0;34m()\u001b[0m\n\u001b[0;32m----> 1\u001b[0;31m \u001b[0mtest\u001b[0m\u001b[0;34m[\u001b[0m\u001b[0mdataListTemp\u001b[0m\u001b[0;34m[\u001b[0m\u001b[0;36m0\u001b[0m\u001b[0;34m]\u001b[0m\u001b[0;34m]\u001b[0m\u001b[0;34m\u001b[0m\u001b[0m\n\u001b[0m",
      "\u001b[0;31mNameError\u001b[0m: name 'dataListTemp' is not defined"
     ]
    }
   ],
   "source": [
    "test[dataListTemp[0]]"
   ]
  },
  {
   "cell_type": "code",
   "execution_count": 13,
   "metadata": {},
   "outputs": [
    {
     "name": "stdout",
     "output_type": "stream",
     "text": [
      "{'Cave and underground': ['Dwarf', 'European dragon', 'Gnome', 'Goblin', 'Golem', 'Grootslang', 'Leprechaun', 'Troll', 'Yaoguai'], 'Celestial and heaven': ['Angel', 'Asteriae', 'Deva / Devi', 'Feathered serpent', 'Pegasus', 'Grim Reaper', 'Swan Maiden', 'Tennin', 'Three-legged bird', 'Valkyrie'], 'Desert': ['Amphisbaena', 'Basilisk', 'Cockatrice', 'Ghoul', 'Mongolian Death Worm', 'Sphinx'], 'Temperate forest and woodland': ['Ajatar', 'Bigfoot', 'Dryad', 'Elf', 'Leshy', 'Green Man', 'Owlman', 'Unicorn', 'Satyr', 'Waldgeist'], 'Tropical forest and jungle': ['Curupira', 'Dingonek', 'Mapinguari', 'Man-eating tree', 'Manticore', 'Saci', 'Umdhlebi'], 'Temperate grassland and garden': ['Fairy', 'Gnome'], 'Savanna': ['Ennedi tiger', 'Werehyena'], 'Lake and river': ['Ahuitzotl', 'Bunyip', 'Chinese dragon', 'Dobhar-chú', 'Encantado', 'Grootslang', 'Iara', 'Jiaolong', 'Kappa', 'Kelpie', 'Lake monster', 'Hydra', 'Loch Ness Monster', 'Mizuchi', 'Naiad', 'Nixie', 'Ogopogo', 'Ondine', 'Rainbow serpent', 'Rusalka', 'Ryujin', 'Shellycoat', 'Warlock', 'Yacuruna'], 'Mountain and hill': ['Dwarf', 'Fenghuang', 'Griffin', 'Hippogriff', 'Mountain Giant', 'Olitiau', 'Oread', 'Patupaiarehe', 'Satyr', 'Tengu', 'Yeti'], 'Sea': ['Bishop-fish', 'Charybdis', 'Dragon King', 'Fish People', 'Hippocamp', 'Leviathan', 'Jormungand', 'Kraken', 'Mermaid / Merman', 'Nereid', 'Sea monk', 'Sea monster', 'Sea serpent', 'Selkie', 'Shen', 'Siren', 'Tritons', 'Umibōzu', 'Water Dragon', 'Yacuruna'], 'Swamp and marsh': ['Bunyip', 'Grootslang', 'Lernaean Hydra', 'Honey island swamp monster', 'Mokele-mbembe', 'Swamp monster', \"Will-o'-the-wisp\"], 'Volcano and lava': ['Cherufe', 'Phoenix', 'Salamander'], 'Polar, ice, and winter': ['Akhlut', 'Amarok', 'Barbegazi', 'Hrimthurs', 'Ijiraq', 'Jotun', 'Qiqirn', 'Saumen Kar', 'Tizheruk', 'Wendigo', 'Yeti', 'Ymir', 'Yuki-onna'], 'Urban and house': ['Banshee', 'Boggart', 'Brownie', 'Domovoi (Slavic house spirit)', 'Dvorovoi (Slavic yard spirit)', 'Duende', 'Jinn', 'Kobold', 'Tomte', 'Vampire', 'Zashiki-warashi']}\n"
     ]
    }
   ],
   "source": [
    "#Data to Dict\n",
    "dataDict = {}\n",
    "dataListTemp=[]\n",
    "for i in range(len(dataRaw)):\n",
    "    dataListTemp.append(dataRaw[i][:-1])\n",
    "    if dataRaw[i] == '\\n' or '':\n",
    "        dataDict.update({dataListTemp[0]:[dataListTemp[1]]})\n",
    "        for i in range(len(dataListTemp[2:])):\n",
    "            dataDict[dataListTemp[0]].append(dataListTemp[2:][i])\n",
    "        dataDict[dataListTemp[0]].pop()\n",
    "        dataListTemp=[]\n",
    "\n",
    "print(dataDict)"
   ]
  },
  {
   "cell_type": "code",
   "execution_count": 14,
   "metadata": {},
   "outputs": [
    {
     "name": "stdout",
     "output_type": "stream",
     "text": [
      "Underworld and hell\n",
      "Ammit\n",
      "Cerberus\n",
      "Cyclops\n",
      "Demon\n",
      "Devil\n",
      "Earth Dragon\n",
      "Garm\n",
      "Hekatonkheires\n",
      "Hellhound\n",
      "Ifrit\n",
      "Ox-Head and Horse-Face\n",
      "Preta\n"
     ]
    }
   ],
   "source": [
    "for i in dataListTemp:\n",
    "    print(i)"
   ]
  },
  {
   "cell_type": "code",
   "execution_count": 15,
   "metadata": {},
   "outputs": [
    {
     "data": {
      "text/plain": [
       "[1, 2]"
      ]
     },
     "execution_count": 15,
     "metadata": {},
     "output_type": "execute_result"
    }
   ],
   "source": [
    "x = [1,2,3]\n",
    "x.pop()\n",
    "x"
   ]
  },
  {
   "cell_type": "code",
   "execution_count": 16,
   "metadata": {},
   "outputs": [
    {
     "name": "stdout",
     "output_type": "stream",
     "text": [
      "{'Underworld and hell': ['Ammit', 'Cerberus', 'Cerberus']}\n"
     ]
    }
   ],
   "source": [
    "testdict = {}\n",
    "testdict.update({dataListTemp[0]:[dataListTemp[1], dataListTemp[2], dataListTemp[2]]})\n",
    "print(testdict)"
   ]
  },
  {
   "cell_type": "code",
   "execution_count": 17,
   "metadata": {},
   "outputs": [
    {
     "data": {
      "text/plain": [
       "{'Underworld and hell': ['Ammit', 'Cerberus', 'Cerberus', 'test']}"
      ]
     },
     "execution_count": 17,
     "metadata": {},
     "output_type": "execute_result"
    }
   ],
   "source": [
    "testdict[dataListTemp[0]].append(\"test\")\n",
    "testdict"
   ]
  },
  {
   "cell_type": "code",
   "execution_count": 18,
   "metadata": {},
   "outputs": [
    {
     "data": {
      "text/plain": [
       "176"
      ]
     },
     "execution_count": 18,
     "metadata": {},
     "output_type": "execute_result"
    }
   ],
   "source": [
    "len(dataRaw)"
   ]
  },
  {
   "cell_type": "code",
   "execution_count": 19,
   "metadata": {},
   "outputs": [
    {
     "name": "stdout",
     "output_type": "stream",
     "text": [
      "h\n",
      "e\n",
      "o\n",
      " \n",
      "w\n",
      "o\n",
      "r\n",
      "d\n"
     ]
    }
   ],
   "source": [
    "for i in \"hello world\":\n",
    "    if i == 'l':\n",
    "        continue\n",
    "    print(i)"
   ]
  },
  {
   "cell_type": "code",
   "execution_count": null,
   "metadata": {},
   "outputs": [],
   "source": []
  },
  {
   "cell_type": "code",
   "execution_count": null,
   "metadata": {},
   "outputs": [],
   "source": []
  },
  {
   "cell_type": "code",
   "execution_count": 20,
   "metadata": {},
   "outputs": [
    {
     "name": "stdout",
     "output_type": "stream",
     "text": [
      "{'Cave and underground': ['Dwarf', 'European dragon', 'Gnome', 'Goblin', 'Golem', 'Grootslang', 'Leprechaun', 'Troll', 'Yaoguai'], 'Celestial and heaven': ['Angel', 'Asteriae', 'Deva / Devi', 'Feathered serpent', 'Pegasus', 'Grim Reaper', 'Swan Maiden', 'Tennin', 'Three-legged bird', 'Valkyrie'], 'Desert': ['Amphisbaena', 'Basilisk', 'Cockatrice', 'Ghoul', 'Mongolian Death Worm', 'Sphinx'], 'Temperate forest and woodland': ['Ajatar', 'Bigfoot', 'Dryad', 'Elf', 'Leshy', 'Green Man', 'Owlman', 'Unicorn', 'Satyr', 'Waldgeist'], 'Tropical forest and jungle': ['Curupira', 'Dingonek', 'Mapinguari', 'Man-eating tree', 'Manticore', 'Saci', 'Umdhlebi'], 'Temperate grassland and garden': ['Fairy', 'Gnome'], 'Savanna': ['Ennedi tiger', 'Werehyena'], 'Lake and river': ['Ahuitzotl', 'Bunyip', 'Chinese dragon', 'Dobhar-chú', 'Encantado', 'Grootslang', 'Iara', 'Jiaolong', 'Kappa', 'Kelpie', 'Lake monster', 'Hydra', 'Loch Ness Monster', 'Mizuchi', 'Naiad', 'Nixie', 'Ogopogo', 'Ondine', 'Rainbow serpent', 'Rusalka', 'Ryujin', 'Shellycoat', 'Warlock', 'Yacuruna'], 'Mountain and hill': ['Dwarf', 'Fenghuang', 'Griffin', 'Hippogriff', 'Mountain Giant', 'Olitiau', 'Oread', 'Patupaiarehe', 'Satyr', 'Tengu', 'Yeti'], 'Sea': ['Bishop-fish', 'Charybdis', 'Dragon King', 'Fish People', 'Hippocamp', 'Leviathan', 'Jormungand', 'Kraken', 'Mermaid / Merman', 'Nereid', 'Sea monk', 'Sea monster', 'Sea serpent', 'Selkie', 'Shen', 'Siren', 'Tritons', 'Umibōzu', 'Water Dragon', 'Yacuruna'], 'Swamp and marsh': ['Bunyip', 'Grootslang', 'Lernaean Hydra', 'Honey island swamp monster', 'Mokele-mbembe', 'Swamp monster', \"Will-o'-the-wisp\"], 'Volcano and lava': ['Cherufe', 'Phoenix', 'Salamander'], 'Polar, ice, and winter': ['Akhlut', 'Amarok', 'Barbegazi', 'Hrimthurs', 'Ijiraq', 'Jotun', 'Qiqirn', 'Saumen Kar', 'Tizheruk', 'Wendigo', 'Yeti', 'Ymir', 'Yuki-onna'], 'Urban and house': ['Banshee', 'Boggart', 'Brownie', 'Domovoi (Slavic house spirit)', 'Dvorovoi (Slavic yard spirit)', 'Duende', 'Jinn', 'Kobold', 'Tomte', 'Vampire', 'Zashiki-warashi']}\n"
     ]
    }
   ],
   "source": [
    "with open ('creatures.txt') as data:\n",
    "    dataRaw = data.readlines()\n",
    "\n",
    "#Data to Dict\n",
    "dataDict = {}\n",
    "dataListTemp=[]\n",
    "for i in range(len(dataRaw)):\n",
    "    dataListTemp.append(dataRaw[i][:-1])\n",
    "    if dataRaw[i] == '\\n' or '':\n",
    "        dataDict.update({dataListTemp[0]:[dataListTemp[1]]})\n",
    "        for i in range(len(dataListTemp[2:])):\n",
    "            dataDict[dataListTemp[0]].append(dataListTemp[2:][i])\n",
    "        dataDict[dataListTemp[0]].pop()\n",
    "        dataListTemp=[]\n",
    "print(dataDict)\n"
   ]
  },
  {
   "cell_type": "markdown",
   "metadata": {},
   "source": [
    "# DataToDictFunc"
   ]
  },
  {
   "cell_type": "code",
   "execution_count": 21,
   "metadata": {},
   "outputs": [],
   "source": [
    "def textToDict(fileName):\n",
    "    with open ('creatures.txt') as data:\n",
    "        dataRaw = data.readlines()\n",
    "\n",
    "    #Data to Dict\n",
    "    dataDict = {}\n",
    "    dataListTemp=[]\n",
    "    for i in range(len(dataRaw)):\n",
    "        dataListTemp.append(dataRaw[i][:-1])\n",
    "        if dataRaw[i] == '\\n' or '':\n",
    "            dataDict.update({dataListTemp[0]:[dataListTemp[1]]})\n",
    "            for i in range(len(dataListTemp[2:])):\n",
    "                dataDict[dataListTemp[0]].append(dataListTemp[2:][i])\n",
    "            dataDict[dataListTemp[0]].pop()\n",
    "            dataListTemp=[]\n",
    "    return dataDict"
   ]
  },
  {
   "cell_type": "code",
   "execution_count": 22,
   "metadata": {},
   "outputs": [],
   "source": [
    "creatures = textToDict('creatures.txt')"
   ]
  },
  {
   "cell_type": "code",
   "execution_count": 23,
   "metadata": {},
   "outputs": [
    {
     "data": {
      "text/plain": [
       "{'Cave and underground': ['Dwarf',\n",
       "  'European dragon',\n",
       "  'Gnome',\n",
       "  'Goblin',\n",
       "  'Golem',\n",
       "  'Grootslang',\n",
       "  'Leprechaun',\n",
       "  'Troll',\n",
       "  'Yaoguai'],\n",
       " 'Celestial and heaven': ['Angel',\n",
       "  'Asteriae',\n",
       "  'Deva / Devi',\n",
       "  'Feathered serpent',\n",
       "  'Pegasus',\n",
       "  'Grim Reaper',\n",
       "  'Swan Maiden',\n",
       "  'Tennin',\n",
       "  'Three-legged bird',\n",
       "  'Valkyrie'],\n",
       " 'Desert': ['Amphisbaena',\n",
       "  'Basilisk',\n",
       "  'Cockatrice',\n",
       "  'Ghoul',\n",
       "  'Mongolian Death Worm',\n",
       "  'Sphinx'],\n",
       " 'Temperate forest and woodland': ['Ajatar',\n",
       "  'Bigfoot',\n",
       "  'Dryad',\n",
       "  'Elf',\n",
       "  'Leshy',\n",
       "  'Green Man',\n",
       "  'Owlman',\n",
       "  'Unicorn',\n",
       "  'Satyr',\n",
       "  'Waldgeist'],\n",
       " 'Tropical forest and jungle': ['Curupira',\n",
       "  'Dingonek',\n",
       "  'Mapinguari',\n",
       "  'Man-eating tree',\n",
       "  'Manticore',\n",
       "  'Saci',\n",
       "  'Umdhlebi'],\n",
       " 'Temperate grassland and garden': ['Fairy', 'Gnome'],\n",
       " 'Savanna': ['Ennedi tiger', 'Werehyena'],\n",
       " 'Lake and river': ['Ahuitzotl',\n",
       "  'Bunyip',\n",
       "  'Chinese dragon',\n",
       "  'Dobhar-chú',\n",
       "  'Encantado',\n",
       "  'Grootslang',\n",
       "  'Iara',\n",
       "  'Jiaolong',\n",
       "  'Kappa',\n",
       "  'Kelpie',\n",
       "  'Lake monster',\n",
       "  'Hydra',\n",
       "  'Loch Ness Monster',\n",
       "  'Mizuchi',\n",
       "  'Naiad',\n",
       "  'Nixie',\n",
       "  'Ogopogo',\n",
       "  'Ondine',\n",
       "  'Rainbow serpent',\n",
       "  'Rusalka',\n",
       "  'Ryujin',\n",
       "  'Shellycoat',\n",
       "  'Warlock',\n",
       "  'Yacuruna'],\n",
       " 'Mountain and hill': ['Dwarf',\n",
       "  'Fenghuang',\n",
       "  'Griffin',\n",
       "  'Hippogriff',\n",
       "  'Mountain Giant',\n",
       "  'Olitiau',\n",
       "  'Oread',\n",
       "  'Patupaiarehe',\n",
       "  'Satyr',\n",
       "  'Tengu',\n",
       "  'Yeti'],\n",
       " 'Sea': ['Bishop-fish',\n",
       "  'Charybdis',\n",
       "  'Dragon King',\n",
       "  'Fish People',\n",
       "  'Hippocamp',\n",
       "  'Leviathan',\n",
       "  'Jormungand',\n",
       "  'Kraken',\n",
       "  'Mermaid / Merman',\n",
       "  'Nereid',\n",
       "  'Sea monk',\n",
       "  'Sea monster',\n",
       "  'Sea serpent',\n",
       "  'Selkie',\n",
       "  'Shen',\n",
       "  'Siren',\n",
       "  'Tritons',\n",
       "  'Umibōzu',\n",
       "  'Water Dragon',\n",
       "  'Yacuruna'],\n",
       " 'Swamp and marsh': ['Bunyip',\n",
       "  'Grootslang',\n",
       "  'Lernaean Hydra',\n",
       "  'Honey island swamp monster',\n",
       "  'Mokele-mbembe',\n",
       "  'Swamp monster',\n",
       "  \"Will-o'-the-wisp\"],\n",
       " 'Volcano and lava': ['Cherufe', 'Phoenix', 'Salamander'],\n",
       " 'Polar, ice, and winter': ['Akhlut',\n",
       "  'Amarok',\n",
       "  'Barbegazi',\n",
       "  'Hrimthurs',\n",
       "  'Ijiraq',\n",
       "  'Jotun',\n",
       "  'Qiqirn',\n",
       "  'Saumen Kar',\n",
       "  'Tizheruk',\n",
       "  'Wendigo',\n",
       "  'Yeti',\n",
       "  'Ymir',\n",
       "  'Yuki-onna'],\n",
       " 'Urban and house': ['Banshee',\n",
       "  'Boggart',\n",
       "  'Brownie',\n",
       "  'Domovoi (Slavic house spirit)',\n",
       "  'Dvorovoi (Slavic yard spirit)',\n",
       "  'Duende',\n",
       "  'Jinn',\n",
       "  'Kobold',\n",
       "  'Tomte',\n",
       "  'Vampire',\n",
       "  'Zashiki-warashi']}"
      ]
     },
     "execution_count": 23,
     "metadata": {},
     "output_type": "execute_result"
    }
   ],
   "source": [
    "creatures"
   ]
  },
  {
   "cell_type": "markdown",
   "metadata": {},
   "source": [
    "# ImgDownload Start"
   ]
  },
  {
   "cell_type": "code",
   "execution_count": 24,
   "metadata": {},
   "outputs": [
    {
     "ename": "ModuleNotFoundError",
     "evalue": "No module named 'google_images_download'",
     "output_type": "error",
     "traceback": [
      "\u001b[0;31m---------------------------------------------------------------------------\u001b[0m",
      "\u001b[0;31mModuleNotFoundError\u001b[0m                       Traceback (most recent call last)",
      "\u001b[0;32m<ipython-input-24-fa2505de9647>\u001b[0m in \u001b[0;36m<module>\u001b[0;34m()\u001b[0m\n\u001b[1;32m      1\u001b[0m \u001b[0;32mimport\u001b[0m \u001b[0mos\u001b[0m\u001b[0;34m\u001b[0m\u001b[0m\n\u001b[0;32m----> 2\u001b[0;31m \u001b[0;32mfrom\u001b[0m \u001b[0mgoogle_images_download\u001b[0m \u001b[0;32mimport\u001b[0m \u001b[0mgoogle_images_download\u001b[0m\u001b[0;34m\u001b[0m\u001b[0m\n\u001b[0m\u001b[1;32m      3\u001b[0m \u001b[0mos\u001b[0m\u001b[0;34m.\u001b[0m\u001b[0mlistdir\u001b[0m\u001b[0;34m(\u001b[0m\u001b[0;34m)\u001b[0m\u001b[0;34m\u001b[0m\u001b[0m\n",
      "\u001b[0;31mModuleNotFoundError\u001b[0m: No module named 'google_images_download'"
     ]
    }
   ],
   "source": [
    "import os\n",
    "from google_images_download import google_images_download\n",
    "os.listdir()"
   ]
  },
  {
   "cell_type": "code",
   "execution_count": 25,
   "metadata": {},
   "outputs": [],
   "source": [
    "os.makedirs('img_downloads')"
   ]
  },
  {
   "cell_type": "code",
   "execution_count": 26,
   "metadata": {},
   "outputs": [
    {
     "ename": "TypeError",
     "evalue": "'_io.TextIOWrapper' object is not subscriptable",
     "output_type": "error",
     "traceback": [
      "\u001b[0;31m---------------------------------------------------------------------------\u001b[0m",
      "\u001b[0;31mTypeError\u001b[0m                                 Traceback (most recent call last)",
      "\u001b[0;32m<ipython-input-26-0ddd8e80edc8>\u001b[0m in \u001b[0;36m<module>\u001b[0;34m()\u001b[0m\n\u001b[0;32m----> 1\u001b[0;31m \u001b[0mdata\u001b[0m\u001b[0;34m[\u001b[0m\u001b[0;34m'Volcano and lava'\u001b[0m\u001b[0;34m]\u001b[0m\u001b[0;34m\u001b[0m\u001b[0m\n\u001b[0m",
      "\u001b[0;31mTypeError\u001b[0m: '_io.TextIOWrapper' object is not subscriptable"
     ]
    }
   ],
   "source": [
    "data['Volcano and lava']"
   ]
  },
  {
   "cell_type": "code",
   "execution_count": 27,
   "metadata": {},
   "outputs": [],
   "source": [
    "for i in os.listdir('img_downloads/'):\n",
    "    print (i)"
   ]
  },
  {
   "cell_type": "code",
   "execution_count": 28,
   "metadata": {},
   "outputs": [],
   "source": [
    "data = textToDict('creatures.txt')"
   ]
  },
  {
   "cell_type": "code",
   "execution_count": 29,
   "metadata": {},
   "outputs": [],
   "source": [
    "#create folders with key`s names\n",
    "# image_directory -i, output_directory -o #\n",
    "for i in data:\n",
    "    os.makedirs('img_downloads/{}'.format(i))"
   ]
  },
  {
   "cell_type": "code",
   "execution_count": 30,
   "metadata": {},
   "outputs": [
    {
     "name": "stdout",
     "output_type": "stream",
     "text": [
      "Volcano and lava\n",
      "Temperate grassland and garden\n",
      "Cave and underground\n",
      "Swamp and marsh\n",
      "Polar, ice, and winter\n",
      "Tropical forest and jungle\n",
      "Urban and house\n",
      "Mountain and hill\n",
      "Lake and river\n",
      "Temperate forest and woodland\n",
      "Celestial and heaven\n",
      "Savanna\n",
      "Desert\n",
      "Sea\n"
     ]
    }
   ],
   "source": [
    "#create dirs inside keyDirs\n",
    "for folder in os.listdir('img_downloads/'):\n",
    "    if folder == '.DS_Store':\n",
    "        continue\n",
    "    print(folder)"
   ]
  },
  {
   "cell_type": "code",
   "execution_count": 31,
   "metadata": {
    "scrolled": true
   },
   "outputs": [
    {
     "name": "stdout",
     "output_type": "stream",
     "text": [
      "['Dwarf', 'European dragon', 'Gnome', 'Goblin', 'Golem', 'Grootslang', 'Leprechaun', 'Troll', 'Yaoguai']\n",
      "Dwarf\n",
      "European dragon\n",
      "Gnome\n",
      "Goblin\n",
      "Golem\n",
      "Grootslang\n",
      "Leprechaun\n",
      "Troll\n",
      "Yaoguai\n",
      "['Angel', 'Asteriae', 'Deva / Devi', 'Feathered serpent', 'Pegasus', 'Grim Reaper', 'Swan Maiden', 'Tennin', 'Three-legged bird', 'Valkyrie']\n",
      "Angel\n",
      "Asteriae\n",
      "Deva / Devi\n",
      "Feathered serpent\n",
      "Pegasus\n",
      "Grim Reaper\n",
      "Swan Maiden\n",
      "Tennin\n",
      "Three-legged bird\n",
      "Valkyrie\n",
      "['Amphisbaena', 'Basilisk', 'Cockatrice', 'Ghoul', 'Mongolian Death Worm', 'Sphinx']\n",
      "Amphisbaena\n",
      "Basilisk\n",
      "Cockatrice\n",
      "Ghoul\n",
      "Mongolian Death Worm\n",
      "Sphinx\n",
      "['Ajatar', 'Bigfoot', 'Dryad', 'Elf', 'Leshy', 'Green Man', 'Owlman', 'Unicorn', 'Satyr', 'Waldgeist']\n",
      "Ajatar\n",
      "Bigfoot\n",
      "Dryad\n",
      "Elf\n",
      "Leshy\n",
      "Green Man\n",
      "Owlman\n",
      "Unicorn\n",
      "Satyr\n",
      "Waldgeist\n",
      "['Curupira', 'Dingonek', 'Mapinguari', 'Man-eating tree', 'Manticore', 'Saci', 'Umdhlebi']\n",
      "Curupira\n",
      "Dingonek\n",
      "Mapinguari\n",
      "Man-eating tree\n",
      "Manticore\n",
      "Saci\n",
      "Umdhlebi\n",
      "['Fairy', 'Gnome']\n",
      "Fairy\n",
      "Gnome\n",
      "['Ennedi tiger', 'Werehyena']\n",
      "Ennedi tiger\n",
      "Werehyena\n",
      "['Ahuitzotl', 'Bunyip', 'Chinese dragon', 'Dobhar-chú', 'Encantado', 'Grootslang', 'Iara', 'Jiaolong', 'Kappa', 'Kelpie', 'Lake monster', 'Hydra', 'Loch Ness Monster', 'Mizuchi', 'Naiad', 'Nixie', 'Ogopogo', 'Ondine', 'Rainbow serpent', 'Rusalka', 'Ryujin', 'Shellycoat', 'Warlock', 'Yacuruna']\n",
      "Ahuitzotl\n",
      "Bunyip\n",
      "Chinese dragon\n",
      "Dobhar-chú\n",
      "Encantado\n",
      "Grootslang\n",
      "Iara\n",
      "Jiaolong\n",
      "Kappa\n",
      "Kelpie\n",
      "Lake monster\n",
      "Hydra\n",
      "Loch Ness Monster\n",
      "Mizuchi\n",
      "Naiad\n",
      "Nixie\n",
      "Ogopogo\n",
      "Ondine\n",
      "Rainbow serpent\n",
      "Rusalka\n",
      "Ryujin\n",
      "Shellycoat\n",
      "Warlock\n",
      "Yacuruna\n",
      "['Dwarf', 'Fenghuang', 'Griffin', 'Hippogriff', 'Mountain Giant', 'Olitiau', 'Oread', 'Patupaiarehe', 'Satyr', 'Tengu', 'Yeti']\n",
      "Dwarf\n",
      "Fenghuang\n",
      "Griffin\n",
      "Hippogriff\n",
      "Mountain Giant\n",
      "Olitiau\n",
      "Oread\n",
      "Patupaiarehe\n",
      "Satyr\n",
      "Tengu\n",
      "Yeti\n",
      "['Bishop-fish', 'Charybdis', 'Dragon King', 'Fish People', 'Hippocamp', 'Leviathan', 'Jormungand', 'Kraken', 'Mermaid / Merman', 'Nereid', 'Sea monk', 'Sea monster', 'Sea serpent', 'Selkie', 'Shen', 'Siren', 'Tritons', 'Umibōzu', 'Water Dragon', 'Yacuruna']\n",
      "Bishop-fish\n",
      "Charybdis\n",
      "Dragon King\n",
      "Fish People\n",
      "Hippocamp\n",
      "Leviathan\n",
      "Jormungand\n",
      "Kraken\n",
      "Mermaid / Merman\n",
      "Nereid\n",
      "Sea monk\n",
      "Sea monster\n",
      "Sea serpent\n",
      "Selkie\n",
      "Shen\n",
      "Siren\n",
      "Tritons\n",
      "Umibōzu\n",
      "Water Dragon\n",
      "Yacuruna\n",
      "['Bunyip', 'Grootslang', 'Lernaean Hydra', 'Honey island swamp monster', 'Mokele-mbembe', 'Swamp monster', \"Will-o'-the-wisp\"]\n",
      "Bunyip\n",
      "Grootslang\n",
      "Lernaean Hydra\n",
      "Honey island swamp monster\n",
      "Mokele-mbembe\n",
      "Swamp monster\n",
      "Will-o'-the-wisp\n",
      "['Cherufe', 'Phoenix', 'Salamander']\n",
      "Cherufe\n",
      "Phoenix\n",
      "Salamander\n",
      "['Akhlut', 'Amarok', 'Barbegazi', 'Hrimthurs', 'Ijiraq', 'Jotun', 'Qiqirn', 'Saumen Kar', 'Tizheruk', 'Wendigo', 'Yeti', 'Ymir', 'Yuki-onna']\n",
      "Akhlut\n",
      "Amarok\n",
      "Barbegazi\n",
      "Hrimthurs\n",
      "Ijiraq\n",
      "Jotun\n",
      "Qiqirn\n",
      "Saumen Kar\n",
      "Tizheruk\n",
      "Wendigo\n",
      "Yeti\n",
      "Ymir\n",
      "Yuki-onna\n",
      "['Banshee', 'Boggart', 'Brownie', 'Domovoi (Slavic house spirit)', 'Dvorovoi (Slavic yard spirit)', 'Duende', 'Jinn', 'Kobold', 'Tomte', 'Vampire', 'Zashiki-warashi']\n",
      "Banshee\n",
      "Boggart\n",
      "Brownie\n",
      "Domovoi (Slavic house spirit)\n",
      "Dvorovoi (Slavic yard spirit)\n",
      "Duende\n",
      "Jinn\n",
      "Kobold\n",
      "Tomte\n",
      "Vampire\n",
      "Zashiki-warashi\n"
     ]
    }
   ],
   "source": [
    "for i in list(data.keys()):\n",
    "    print (data[i])\n",
    "    x = i\n",
    "    for i in data[i]:\n",
    "        print (i)\n",
    "        path = ('img_downloads/{}/'.format(x))\n",
    "        os.makedirs(path + i)"
   ]
  },
  {
   "cell_type": "code",
   "execution_count": 35,
   "metadata": {},
   "outputs": [
    {
     "data": {
      "text/plain": [
       "{'Cave and underground': ['Dwarf',\n",
       "  'European dragon',\n",
       "  'Gnome',\n",
       "  'Goblin',\n",
       "  'Golem',\n",
       "  'Grootslang',\n",
       "  'Leprechaun',\n",
       "  'Troll',\n",
       "  'Yaoguai'],\n",
       " 'Celestial and heaven': ['Angel',\n",
       "  'Asteriae',\n",
       "  'Deva / Devi',\n",
       "  'Feathered serpent',\n",
       "  'Pegasus',\n",
       "  'Grim Reaper',\n",
       "  'Swan Maiden',\n",
       "  'Tennin',\n",
       "  'Three-legged bird',\n",
       "  'Valkyrie'],\n",
       " 'Desert': ['Amphisbaena',\n",
       "  'Basilisk',\n",
       "  'Cockatrice',\n",
       "  'Ghoul',\n",
       "  'Mongolian Death Worm',\n",
       "  'Sphinx'],\n",
       " 'Temperate forest and woodland': ['Ajatar',\n",
       "  'Bigfoot',\n",
       "  'Dryad',\n",
       "  'Elf',\n",
       "  'Leshy',\n",
       "  'Green Man',\n",
       "  'Owlman',\n",
       "  'Unicorn',\n",
       "  'Satyr',\n",
       "  'Waldgeist'],\n",
       " 'Tropical forest and jungle': ['Curupira',\n",
       "  'Dingonek',\n",
       "  'Mapinguari',\n",
       "  'Man-eating tree',\n",
       "  'Manticore',\n",
       "  'Saci',\n",
       "  'Umdhlebi'],\n",
       " 'Temperate grassland and garden': ['Fairy', 'Gnome'],\n",
       " 'Savanna': ['Ennedi tiger', 'Werehyena'],\n",
       " 'Lake and river': ['Ahuitzotl',\n",
       "  'Bunyip',\n",
       "  'Chinese dragon',\n",
       "  'Dobhar-chú',\n",
       "  'Encantado',\n",
       "  'Grootslang',\n",
       "  'Iara',\n",
       "  'Jiaolong',\n",
       "  'Kappa',\n",
       "  'Kelpie',\n",
       "  'Lake monster',\n",
       "  'Hydra',\n",
       "  'Loch Ness Monster',\n",
       "  'Mizuchi',\n",
       "  'Naiad',\n",
       "  'Nixie',\n",
       "  'Ogopogo',\n",
       "  'Ondine',\n",
       "  'Rainbow serpent',\n",
       "  'Rusalka',\n",
       "  'Ryujin',\n",
       "  'Shellycoat',\n",
       "  'Warlock',\n",
       "  'Yacuruna'],\n",
       " 'Mountain and hill': ['Dwarf',\n",
       "  'Fenghuang',\n",
       "  'Griffin',\n",
       "  'Hippogriff',\n",
       "  'Mountain Giant',\n",
       "  'Olitiau',\n",
       "  'Oread',\n",
       "  'Patupaiarehe',\n",
       "  'Satyr',\n",
       "  'Tengu',\n",
       "  'Yeti'],\n",
       " 'Sea': ['Bishop-fish',\n",
       "  'Charybdis',\n",
       "  'Dragon King',\n",
       "  'Fish People',\n",
       "  'Hippocamp',\n",
       "  'Leviathan',\n",
       "  'Jormungand',\n",
       "  'Kraken',\n",
       "  'Mermaid / Merman',\n",
       "  'Nereid',\n",
       "  'Sea monk',\n",
       "  'Sea monster',\n",
       "  'Sea serpent',\n",
       "  'Selkie',\n",
       "  'Shen',\n",
       "  'Siren',\n",
       "  'Tritons',\n",
       "  'Umibōzu',\n",
       "  'Water Dragon',\n",
       "  'Yacuruna'],\n",
       " 'Swamp and marsh': ['Bunyip',\n",
       "  'Grootslang',\n",
       "  'Lernaean Hydra',\n",
       "  'Honey island swamp monster',\n",
       "  'Mokele-mbembe',\n",
       "  'Swamp monster',\n",
       "  \"Will-o'-the-wisp\"],\n",
       " 'Volcano and lava': ['Cherufe', 'Phoenix', 'Salamander'],\n",
       " 'Polar, ice, and winter': ['Akhlut',\n",
       "  'Amarok',\n",
       "  'Barbegazi',\n",
       "  'Hrimthurs',\n",
       "  'Ijiraq',\n",
       "  'Jotun',\n",
       "  'Qiqirn',\n",
       "  'Saumen Kar',\n",
       "  'Tizheruk',\n",
       "  'Wendigo',\n",
       "  'Yeti',\n",
       "  'Ymir',\n",
       "  'Yuki-onna'],\n",
       " 'Urban and house': ['Banshee',\n",
       "  'Boggart',\n",
       "  'Brownie',\n",
       "  'Domovoi (Slavic house spirit)',\n",
       "  'Dvorovoi (Slavic yard spirit)',\n",
       "  'Duende',\n",
       "  'Jinn',\n",
       "  'Kobold',\n",
       "  'Tomte',\n",
       "  'Vampire',\n",
       "  'Zashiki-warashi']}"
      ]
     },
     "execution_count": 35,
     "metadata": {},
     "output_type": "execute_result"
    }
   ],
   "source": [
    "data"
   ]
  },
  {
   "cell_type": "code",
   "execution_count": 33,
   "metadata": {},
   "outputs": [
    {
     "name": "stdout",
     "output_type": "stream",
     "text": [
      "img_downloads/Urban and house/\n"
     ]
    }
   ],
   "source": [
    "print(path)"
   ]
  },
  {
   "cell_type": "code",
   "execution_count": 34,
   "metadata": {},
   "outputs": [
    {
     "ename": "NameError",
     "evalue": "name 'foldersList' is not defined",
     "output_type": "error",
     "traceback": [
      "\u001b[0;31m---------------------------------------------------------------------------\u001b[0m",
      "\u001b[0;31mNameError\u001b[0m                                 Traceback (most recent call last)",
      "\u001b[0;32m<ipython-input-34-af5b6e67f6ff>\u001b[0m in \u001b[0;36m<module>\u001b[0;34m()\u001b[0m\n\u001b[0;32m----> 1\u001b[0;31m \u001b[0;32mfor\u001b[0m \u001b[0mi\u001b[0m \u001b[0;32min\u001b[0m \u001b[0mfoldersList\u001b[0m\u001b[0;34m:\u001b[0m\u001b[0;34m\u001b[0m\u001b[0m\n\u001b[0m\u001b[1;32m      2\u001b[0m     \u001b[0mprint\u001b[0m \u001b[0;34m(\u001b[0m\u001b[0mi\u001b[0m\u001b[0;34m)\u001b[0m\u001b[0;34m\u001b[0m\u001b[0m\n",
      "\u001b[0;31mNameError\u001b[0m: name 'foldersList' is not defined"
     ]
    }
   ],
   "source": [
    "for i in foldersList:\n",
    "    print (i)"
   ]
  },
  {
   "cell_type": "code",
   "execution_count": 54,
   "metadata": {},
   "outputs": [],
   "source": [
    "#create folders with value name inside each key // automatically creates KEYS folders!\n",
    "for key in list(data.keys()):\n",
    "    for value in data[key]:\n",
    "        path = ('img_downloads/{}/'.format(key))\n",
    "        os.makedirs(path + value)"
   ]
  },
  {
   "cell_type": "code",
   "execution_count": 80,
   "metadata": {},
   "outputs": [],
   "source": [
    "def createFolderStructure():\n",
    "#create folders with value name inside each key automatically creates KEYS folders!\n",
    "    for key in list(data.keys()):\n",
    "        for value in data[key]:\n",
    "            path = ('structure/{}/'.format(key))\n",
    "            os.makedirs(path + value)"
   ]
  },
  {
   "cell_type": "code",
   "execution_count": 81,
   "metadata": {},
   "outputs": [
    {
     "ename": "TypeError",
     "evalue": "createFolderStructure() takes 0 positional arguments but 1 was given",
     "output_type": "error",
     "traceback": [
      "\u001b[0;31m---------------------------------------------------------------------------\u001b[0m",
      "\u001b[0;31mTypeError\u001b[0m                                 Traceback (most recent call last)",
      "\u001b[0;32m<ipython-input-81-70814db45649>\u001b[0m in \u001b[0;36m<module>\u001b[0;34m()\u001b[0m\n\u001b[0;32m----> 1\u001b[0;31m \u001b[0mcreateFolderStructure\u001b[0m\u001b[0;34m(\u001b[0m\u001b[0;36m123\u001b[0m\u001b[0;34m)\u001b[0m\u001b[0;34m\u001b[0m\u001b[0m\n\u001b[0m",
      "\u001b[0;31mTypeError\u001b[0m: createFolderStructure() takes 0 positional arguments but 1 was given"
     ]
    }
   ],
   "source": [
    "createFolderStructure()"
   ]
  },
  {
   "cell_type": "code",
   "execution_count": 77,
   "metadata": {},
   "outputs": [],
   "source": [
    "def test(x = 'hello'):\n",
    "    print(hello)"
   ]
  },
  {
   "cell_type": "code",
   "execution_count": 79,
   "metadata": {},
   "outputs": [
    {
     "ename": "NameError",
     "evalue": "name 'hello' is not defined",
     "output_type": "error",
     "traceback": [
      "\u001b[0;31m---------------------------------------------------------------------------\u001b[0m",
      "\u001b[0;31mNameError\u001b[0m                                 Traceback (most recent call last)",
      "\u001b[0;32m<ipython-input-79-a564ac9a6da7>\u001b[0m in \u001b[0;36m<module>\u001b[0;34m()\u001b[0m\n\u001b[0;32m----> 1\u001b[0;31m \u001b[0mtest\u001b[0m\u001b[0;34m(\u001b[0m\u001b[0mx\u001b[0m\u001b[0;34m)\u001b[0m\u001b[0;34m\u001b[0m\u001b[0m\n\u001b[0m",
      "\u001b[0;32m<ipython-input-77-a36ba3562114>\u001b[0m in \u001b[0;36mtest\u001b[0;34m(x)\u001b[0m\n\u001b[1;32m      1\u001b[0m \u001b[0;32mdef\u001b[0m \u001b[0mtest\u001b[0m\u001b[0;34m(\u001b[0m\u001b[0mx\u001b[0m \u001b[0;34m=\u001b[0m \u001b[0;34m'hello'\u001b[0m\u001b[0;34m)\u001b[0m\u001b[0;34m:\u001b[0m\u001b[0;34m\u001b[0m\u001b[0m\n\u001b[0;32m----> 2\u001b[0;31m     \u001b[0mprint\u001b[0m\u001b[0;34m(\u001b[0m\u001b[0mhello\u001b[0m\u001b[0;34m)\u001b[0m\u001b[0;34m\u001b[0m\u001b[0m\n\u001b[0m",
      "\u001b[0;31mNameError\u001b[0m: name 'hello' is not defined"
     ]
    }
   ],
   "source": [
    "test()"
   ]
  },
  {
   "cell_type": "code",
   "execution_count": 82,
   "metadata": {},
   "outputs": [],
   "source": [
    "createFolderStructure()"
   ]
  },
  {
   "cell_type": "code",
   "execution_count": null,
   "metadata": {},
   "outputs": [],
   "source": []
  },
  {
   "cell_type": "code",
   "execution_count": null,
   "metadata": {},
   "outputs": [],
   "source": []
  },
  {
   "cell_type": "code",
   "execution_count": null,
   "metadata": {},
   "outputs": [],
   "source": []
  },
  {
   "cell_type": "code",
   "execution_count": null,
   "metadata": {},
   "outputs": [],
   "source": []
  },
  {
   "cell_type": "code",
   "execution_count": 83,
   "metadata": {
    "collapsed": true
   },
   "outputs": [
    {
     "ename": "ModuleNotFoundError",
     "evalue": "No module named 'google_images_download'",
     "output_type": "error",
     "traceback": [
      "\u001b[0;31m---------------------------------------------------------------------------\u001b[0m",
      "\u001b[0;31mModuleNotFoundError\u001b[0m                       Traceback (most recent call last)",
      "\u001b[0;32m<ipython-input-83-df90b0cf511a>\u001b[0m in \u001b[0;36m<module>\u001b[0;34m()\u001b[0m\n\u001b[1;32m      1\u001b[0m \u001b[0;31m#Images Download Example from here https://github.com/hardikvasa/google-images-download\u001b[0m\u001b[0;34m\u001b[0m\u001b[0;34m\u001b[0m\u001b[0m\n\u001b[0;32m----> 2\u001b[0;31m \u001b[0;32mfrom\u001b[0m \u001b[0mgoogle_images_download\u001b[0m \u001b[0;32mimport\u001b[0m \u001b[0mgoogle_images_download\u001b[0m   \u001b[0;31m#importing the library\u001b[0m\u001b[0;34m\u001b[0m\u001b[0m\n\u001b[0m\u001b[1;32m      3\u001b[0m \u001b[0;34m\u001b[0m\u001b[0m\n\u001b[1;32m      4\u001b[0m \u001b[0mresponse\u001b[0m \u001b[0;34m=\u001b[0m \u001b[0mgoogle_images_download\u001b[0m\u001b[0;34m.\u001b[0m\u001b[0mgoogleimagesdownload\u001b[0m\u001b[0;34m(\u001b[0m\u001b[0;34m)\u001b[0m   \u001b[0;31m#class instantiation\u001b[0m\u001b[0;34m\u001b[0m\u001b[0m\n\u001b[1;32m      5\u001b[0m \u001b[0;34m\u001b[0m\u001b[0m\n",
      "\u001b[0;31mModuleNotFoundError\u001b[0m: No module named 'google_images_download'"
     ]
    }
   ],
   "source": [
    "#Images Download Example from here https://github.com/hardikvasa/google-images-download\n",
    "from google_images_download import google_images_download   #importing the library\n",
    "\n",
    "response = google_images_download.googleimagesdownload()   #class instantiation\n",
    "\n",
    "#i need to generate these line\n",
    "arguments = {\"keywords\":\"Polar bears,baloons,Beaches\",\"limit\":20,\"print_urls\":True}   #creating list of arguments\n",
    "#then I can run srcipt with these command \n",
    "paths = response.download(arguments)   #passing the arguments to the function\n",
    "\n",
    "print(paths)   #printing absolute paths of the downloaded images"
   ]
  },
  {
   "cell_type": "code",
   "execution_count": 84,
   "metadata": {},
   "outputs": [],
   "source": [
    "#let's pass script by each category\n",
    "#iter 1\n",
    "#I need to generate dict like that drom data\n",
    "arguments = {\"keywords\":\"Polar bears,baloons,Beaches\",\"limit\":20,\"print_urls\":False,}"
   ]
  },
  {
   "cell_type": "code",
   "execution_count": 85,
   "metadata": {},
   "outputs": [
    {
     "data": {
      "text/plain": [
       "{'Cave and underground': ['Dwarf',\n",
       "  'European dragon',\n",
       "  'Gnome',\n",
       "  'Goblin',\n",
       "  'Golem',\n",
       "  'Grootslang',\n",
       "  'Leprechaun',\n",
       "  'Troll',\n",
       "  'Yaoguai'],\n",
       " 'Celestial and heaven': ['Angel',\n",
       "  'Asteriae',\n",
       "  'Deva / Devi',\n",
       "  'Feathered serpent',\n",
       "  'Pegasus',\n",
       "  'Grim Reaper',\n",
       "  'Swan Maiden',\n",
       "  'Tennin',\n",
       "  'Three-legged bird',\n",
       "  'Valkyrie'],\n",
       " 'Desert': ['Amphisbaena',\n",
       "  'Basilisk',\n",
       "  'Cockatrice',\n",
       "  'Ghoul',\n",
       "  'Mongolian Death Worm',\n",
       "  'Sphinx'],\n",
       " 'Temperate forest and woodland': ['Ajatar',\n",
       "  'Bigfoot',\n",
       "  'Dryad',\n",
       "  'Elf',\n",
       "  'Leshy',\n",
       "  'Green Man',\n",
       "  'Owlman',\n",
       "  'Unicorn',\n",
       "  'Satyr',\n",
       "  'Waldgeist'],\n",
       " 'Tropical forest and jungle': ['Curupira',\n",
       "  'Dingonek',\n",
       "  'Mapinguari',\n",
       "  'Man-eating tree',\n",
       "  'Manticore',\n",
       "  'Saci',\n",
       "  'Umdhlebi'],\n",
       " 'Temperate grassland and garden': ['Fairy', 'Gnome'],\n",
       " 'Savanna': ['Ennedi tiger', 'Werehyena'],\n",
       " 'Lake and river': ['Ahuitzotl',\n",
       "  'Bunyip',\n",
       "  'Chinese dragon',\n",
       "  'Dobhar-chú',\n",
       "  'Encantado',\n",
       "  'Grootslang',\n",
       "  'Iara',\n",
       "  'Jiaolong',\n",
       "  'Kappa',\n",
       "  'Kelpie',\n",
       "  'Lake monster',\n",
       "  'Hydra',\n",
       "  'Loch Ness Monster',\n",
       "  'Mizuchi',\n",
       "  'Naiad',\n",
       "  'Nixie',\n",
       "  'Ogopogo',\n",
       "  'Ondine',\n",
       "  'Rainbow serpent',\n",
       "  'Rusalka',\n",
       "  'Ryujin',\n",
       "  'Shellycoat',\n",
       "  'Warlock',\n",
       "  'Yacuruna'],\n",
       " 'Mountain and hill': ['Dwarf',\n",
       "  'Fenghuang',\n",
       "  'Griffin',\n",
       "  'Hippogriff',\n",
       "  'Mountain Giant',\n",
       "  'Olitiau',\n",
       "  'Oread',\n",
       "  'Patupaiarehe',\n",
       "  'Satyr',\n",
       "  'Tengu',\n",
       "  'Yeti'],\n",
       " 'Sea': ['Bishop-fish',\n",
       "  'Charybdis',\n",
       "  'Dragon King',\n",
       "  'Fish People',\n",
       "  'Hippocamp',\n",
       "  'Leviathan',\n",
       "  'Jormungand',\n",
       "  'Kraken',\n",
       "  'Mermaid / Merman',\n",
       "  'Nereid',\n",
       "  'Sea monk',\n",
       "  'Sea monster',\n",
       "  'Sea serpent',\n",
       "  'Selkie',\n",
       "  'Shen',\n",
       "  'Siren',\n",
       "  'Tritons',\n",
       "  'Umibōzu',\n",
       "  'Water Dragon',\n",
       "  'Yacuruna'],\n",
       " 'Swamp and marsh': ['Bunyip',\n",
       "  'Grootslang',\n",
       "  'Lernaean Hydra',\n",
       "  'Honey island swamp monster',\n",
       "  'Mokele-mbembe',\n",
       "  'Swamp monster',\n",
       "  \"Will-o'-the-wisp\"],\n",
       " 'Volcano and lava': ['Cherufe', 'Phoenix', 'Salamander'],\n",
       " 'Polar, ice, and winter': ['Akhlut',\n",
       "  'Amarok',\n",
       "  'Barbegazi',\n",
       "  'Hrimthurs',\n",
       "  'Ijiraq',\n",
       "  'Jotun',\n",
       "  'Qiqirn',\n",
       "  'Saumen Kar',\n",
       "  'Tizheruk',\n",
       "  'Wendigo',\n",
       "  'Yeti',\n",
       "  'Ymir',\n",
       "  'Yuki-onna'],\n",
       " 'Urban and house': ['Banshee',\n",
       "  'Boggart',\n",
       "  'Brownie',\n",
       "  'Domovoi (Slavic house spirit)',\n",
       "  'Dvorovoi (Slavic yard spirit)',\n",
       "  'Duende',\n",
       "  'Jinn',\n",
       "  'Kobold',\n",
       "  'Tomte',\n",
       "  'Vampire',\n",
       "  'Zashiki-warashi']}"
      ]
     },
     "execution_count": 85,
     "metadata": {},
     "output_type": "execute_result"
    }
   ],
   "source": [
    "data"
   ]
  },
  {
   "cell_type": "code",
   "execution_count": 89,
   "metadata": {},
   "outputs": [],
   "source": [
    "arguments = {\"keywords\":\"Yokai\",\n",
    "             \"limit\":3,\n",
    "             \"print_urls\":False, \n",
    "             \"size\":\">1024*768\", \n",
    "             \"output_directory\":\"structure/\"}"
   ]
  },
  {
   "cell_type": "code",
   "execution_count": 91,
   "metadata": {},
   "outputs": [
    {
     "data": {
      "text/plain": [
       "dict_keys(['Cave and underground', 'Celestial and heaven', 'Desert', 'Temperate forest and woodland', 'Tropical forest and jungle', 'Temperate grassland and garden', 'Savanna', 'Lake and river', 'Mountain and hill', 'Sea', 'Swamp and marsh', 'Volcano and lava', 'Polar, ice, and winter', 'Urban and house'])"
      ]
     },
     "execution_count": 91,
     "metadata": {},
     "output_type": "execute_result"
    }
   ],
   "source": [
    "data.keys()"
   ]
  },
  {
   "cell_type": "code",
   "execution_count": 92,
   "metadata": {
    "collapsed": true
   },
   "outputs": [
    {
     "ename": "NameError",
     "evalue": "name 'response' is not defined",
     "output_type": "error",
     "traceback": [
      "\u001b[0;31m---------------------------------------------------------------------------\u001b[0m",
      "\u001b[0;31mNameError\u001b[0m                                 Traceback (most recent call last)",
      "\u001b[0;32m<ipython-input-92-083eb10ba143>\u001b[0m in \u001b[0;36m<module>\u001b[0;34m()\u001b[0m\n\u001b[0;32m----> 1\u001b[0;31m \u001b[0mresponse\u001b[0m\u001b[0;34m.\u001b[0m\u001b[0mdownload\u001b[0m\u001b[0;34m(\u001b[0m\u001b[0marguments\u001b[0m\u001b[0;34m)\u001b[0m\u001b[0;34m\u001b[0m\u001b[0m\n\u001b[0m",
      "\u001b[0;31mNameError\u001b[0m: name 'response' is not defined"
     ]
    }
   ],
   "source": [
    "#download start function\n",
    "response.download(arguments)"
   ]
  },
  {
   "cell_type": "code",
   "execution_count": 125,
   "metadata": {},
   "outputs": [
    {
     "data": {
      "text/plain": [
       "{'keywords': 'Goblin',\n",
       " 'limit': 3,\n",
       " 'print_urls': False,\n",
       " 'size': '>1024*768',\n",
       " 'output_directory': 'Cave and underground'}"
      ]
     },
     "execution_count": 125,
     "metadata": {},
     "output_type": "execute_result"
    }
   ],
   "source": [
    "arguments[\"keywords\"] = data[list(data.keys())[0]][3]\n",
    "arguments[\"output_directory\"] = list(data.keys())[0]\n",
    "arguments"
   ]
  },
  {
   "cell_type": "code",
   "execution_count": 117,
   "metadata": {},
   "outputs": [
    {
     "name": "stdout",
     "output_type": "stream",
     "text": [
      "Cave and underground\n",
      "Dwarf\n"
     ]
    }
   ],
   "source": [
    "#KeysList 0,1,2,3\n",
    "print (list(data.keys())[0])\n",
    "\n",
    "#Key`s Values List\n",
    "print (data[list(data.keys())[0]][0])"
   ]
  },
  {
   "cell_type": "code",
   "execution_count": 126,
   "metadata": {},
   "outputs": [
    {
     "data": {
      "text/plain": [
       "'Dwarf'"
      ]
     },
     "execution_count": 126,
     "metadata": {},
     "output_type": "execute_result"
    }
   ],
   "source": [
    "#Key`s Values List\n",
    "data[list(data.keys())[0]][0]"
   ]
  },
  {
   "cell_type": "code",
   "execution_count": 196,
   "metadata": {},
   "outputs": [
    {
     "name": "stdout",
     "output_type": "stream",
     "text": [
      "Cave and underground\n",
      "Dwarf\n",
      "European dragon\n",
      "Gnome\n",
      "Goblin\n",
      "Golem\n",
      "Grootslang\n",
      "Leprechaun\n",
      "Troll\n",
      "Yaoguai\n",
      "Celestial and heaven\n",
      "Angel\n",
      "Asteriae\n",
      "Deva / Devi\n",
      "Feathered serpent\n",
      "Pegasus\n",
      "Grim Reaper\n",
      "Swan Maiden\n",
      "Tennin\n",
      "Three-legged bird\n",
      "Valkyrie\n",
      "Desert\n",
      "Amphisbaena\n",
      "Basilisk\n",
      "Cockatrice\n",
      "Ghoul\n",
      "Mongolian Death Worm\n",
      "Sphinx\n",
      "Temperate forest and woodland\n",
      "Ajatar\n",
      "Bigfoot\n",
      "Dryad\n",
      "Elf\n",
      "Leshy\n",
      "Green Man\n",
      "Owlman\n",
      "Unicorn\n",
      "Satyr\n",
      "Waldgeist\n",
      "Tropical forest and jungle\n",
      "Curupira\n",
      "Dingonek\n",
      "Mapinguari\n",
      "Man-eating tree\n",
      "Manticore\n",
      "Saci\n",
      "Umdhlebi\n",
      "Temperate grassland and garden\n",
      "Fairy\n",
      "Gnome\n",
      "Savanna\n",
      "Ennedi tiger\n",
      "Werehyena\n",
      "Lake and river\n",
      "Ahuitzotl\n",
      "Bunyip\n",
      "Chinese dragon\n",
      "Dobhar-chú\n",
      "Encantado\n",
      "Grootslang\n",
      "Iara\n",
      "Jiaolong\n",
      "Kappa\n",
      "Kelpie\n",
      "Lake monster\n",
      "Hydra\n",
      "Loch Ness Monster\n",
      "Mizuchi\n",
      "Naiad\n",
      "Nixie\n",
      "Ogopogo\n",
      "Ondine\n",
      "Rainbow serpent\n",
      "Rusalka\n",
      "Ryujin\n",
      "Shellycoat\n",
      "Warlock\n",
      "Yacuruna\n",
      "Mountain and hill\n",
      "Dwarf\n",
      "Fenghuang\n",
      "Griffin\n",
      "Hippogriff\n",
      "Mountain Giant\n",
      "Olitiau\n",
      "Oread\n",
      "Patupaiarehe\n",
      "Satyr\n",
      "Tengu\n",
      "Yeti\n",
      "Sea\n",
      "Bishop-fish\n",
      "Charybdis\n",
      "Dragon King\n",
      "Fish People\n",
      "Hippocamp\n",
      "Leviathan\n",
      "Jormungand\n",
      "Kraken\n",
      "Mermaid / Merman\n",
      "Nereid\n",
      "Sea monk\n",
      "Sea monster\n",
      "Sea serpent\n",
      "Selkie\n",
      "Shen\n",
      "Siren\n",
      "Tritons\n",
      "Umibōzu\n",
      "Water Dragon\n",
      "Yacuruna\n",
      "Swamp and marsh\n",
      "Bunyip\n",
      "Grootslang\n",
      "Lernaean Hydra\n",
      "Honey island swamp monster\n",
      "Mokele-mbembe\n",
      "Swamp monster\n",
      "Will-o'-the-wisp\n",
      "Volcano and lava\n",
      "Cherufe\n",
      "Phoenix\n",
      "Salamander\n",
      "Polar, ice, and winter\n",
      "Akhlut\n",
      "Amarok\n",
      "Barbegazi\n",
      "Hrimthurs\n",
      "Ijiraq\n",
      "Jotun\n",
      "Qiqirn\n",
      "Saumen Kar\n",
      "Tizheruk\n",
      "Wendigo\n",
      "Yeti\n",
      "Ymir\n",
      "Yuki-onna\n",
      "Urban and house\n",
      "Banshee\n",
      "Boggart\n",
      "Brownie\n",
      "Domovoi (Slavic house spirit)\n",
      "Dvorovoi (Slavic yard spirit)\n",
      "Duende\n",
      "Jinn\n",
      "Kobold\n",
      "Tomte\n",
      "Vampire\n",
      "Zashiki-warashi\n"
     ]
    }
   ],
   "source": [
    "#Cycle Download Func\n",
    "#Enter the Keys\n",
    "for key in list(data.keys()):\n",
    "    print (key)\n",
    "    #Enter the Key`s Values\n",
    "    for value in data[key]:\n",
    "        print(value)"
   ]
  },
  {
   "cell_type": "code",
   "execution_count": 195,
   "metadata": {},
   "outputs": [
    {
     "name": "stdout",
     "output_type": "stream",
     "text": [
      "Cave and underground\n",
      "Zashiki-warashi\n",
      "Celestial and heaven\n",
      "Zashiki-warashi\n",
      "Desert\n",
      "Zashiki-warashi\n",
      "Temperate forest and woodland\n",
      "Zashiki-warashi\n",
      "Tropical forest and jungle\n",
      "Zashiki-warashi\n",
      "Temperate grassland and garden\n",
      "Zashiki-warashi\n",
      "Savanna\n",
      "Zashiki-warashi\n",
      "Lake and river\n",
      "Zashiki-warashi\n",
      "Mountain and hill\n",
      "Zashiki-warashi\n",
      "Sea\n",
      "Zashiki-warashi\n",
      "Swamp and marsh\n",
      "Zashiki-warashi\n",
      "Volcano and lava\n",
      "Zashiki-warashi\n",
      "Polar, ice, and winter\n",
      "Zashiki-warashi\n",
      "Urban and house\n",
      "Zashiki-warashi\n"
     ]
    }
   ],
   "source": [
    "#Cycle Download Func\n",
    "for key in list(data.keys()):\n",
    "    print(key)\n",
    "    arguments[\"output_directory\"] = key + '/'\n",
    "    #dict to list\n",
    "    L = data[key]      \n",
    "    arguments[\"keywords\"] = \", \".join(str(i) for i in L)\n",
    "    response.download(arguments)\n",
    "    print(value)"
   ]
  },
  {
   "cell_type": "code",
   "execution_count": 192,
   "metadata": {},
   "outputs": [
    {
     "data": {
      "text/plain": [
       "dict_keys(['Cave and underground', 'Celestial and heaven', 'Desert', 'Temperate forest and woodland', 'Tropical forest and jungle', 'Temperate grassland and garden', 'Savanna', 'Lake and river', 'Mountain and hill', 'Sea', 'Swamp and marsh', 'Volcano and lava', 'Polar, ice, and winter', 'Urban and house'])"
      ]
     },
     "execution_count": 192,
     "metadata": {},
     "output_type": "execute_result"
    }
   ],
   "source": [
    "data.keys()"
   ]
  },
  {
   "cell_type": "code",
   "execution_count": 193,
   "metadata": {},
   "outputs": [
    {
     "data": {
      "text/plain": [
       "['Dwarf',\n",
       " 'European dragon',\n",
       " 'Gnome',\n",
       " 'Goblin',\n",
       " 'Golem',\n",
       " 'Grootslang',\n",
       " 'Leprechaun',\n",
       " 'Troll',\n",
       " 'Yaoguai']"
      ]
     },
     "execution_count": 193,
     "metadata": {},
     "output_type": "execute_result"
    }
   ],
   "source": [
    "data['Cave and underground']"
   ]
  },
  {
   "cell_type": "code",
   "execution_count": 183,
   "metadata": {},
   "outputs": [
    {
     "data": {
      "text/plain": [
       "['Dwarf',\n",
       " 'European dragon',\n",
       " 'Gnome',\n",
       " 'Goblin',\n",
       " 'Golem',\n",
       " 'Grootslang',\n",
       " 'Leprechaun',\n",
       " 'Troll',\n",
       " 'Yaoguai']"
      ]
     },
     "execution_count": 183,
     "metadata": {},
     "output_type": "execute_result"
    }
   ],
   "source": [
    "data[list(data.keys())[0]]"
   ]
  },
  {
   "cell_type": "code",
   "execution_count": 173,
   "metadata": {},
   "outputs": [
    {
     "data": {
      "text/plain": [
       "'123'"
      ]
     },
     "execution_count": 173,
     "metadata": {},
     "output_type": "execute_result"
    }
   ],
   "source": [
    "list1 = ['1', '2', '3']\n",
    "str1 = ''.join(list1)\n",
    "str1"
   ]
  },
  {
   "cell_type": "code",
   "execution_count": 177,
   "metadata": {},
   "outputs": [
    {
     "data": {
      "text/plain": [
       "'Dwarf, European dragon, Gnome, Goblin, Golem, Grootslang, Leprechaun, Troll, Yaoguai'"
      ]
     },
     "execution_count": 177,
     "metadata": {},
     "output_type": "execute_result"
    }
   ],
   "source": [
    "L = data[list(data.keys())[0]]       \n",
    "\", \".join(str(i) for i in L)"
   ]
  },
  {
   "cell_type": "code",
   "execution_count": 180,
   "metadata": {},
   "outputs": [
    {
     "data": {
      "text/plain": [
       "'Dwarf, European dragon, Gnome, Goblin, Golem, Grootslang, Leprechaun, Troll, Yaoguai'"
      ]
     },
     "execution_count": 180,
     "metadata": {},
     "output_type": "execute_result"
    }
   ],
   "source": [
    "L2 = \", \".join(str(i) for i in L)\n",
    "L2"
   ]
  },
  {
   "cell_type": "code",
   "execution_count": 171,
   "metadata": {},
   "outputs": [
    {
     "data": {
      "text/plain": [
       "'123'"
      ]
     },
     "execution_count": 171,
     "metadata": {},
     "output_type": "execute_result"
    }
   ],
   "source": []
  },
  {
   "cell_type": "code",
   "execution_count": 169,
   "metadata": {},
   "outputs": [
    {
     "data": {
      "text/plain": [
       "['Dwarf',\n",
       " 'European dragon',\n",
       " 'Gnome',\n",
       " 'Goblin',\n",
       " 'Golem',\n",
       " 'Grootslang',\n",
       " 'Leprechaun',\n",
       " 'Troll',\n",
       " 'Yaoguai']"
      ]
     },
     "execution_count": 169,
     "metadata": {},
     "output_type": "execute_result"
    }
   ],
   "source": [
    "data[list(data.keys())[0]]"
   ]
  },
  {
   "cell_type": "code",
   "execution_count": 145,
   "metadata": {},
   "outputs": [],
   "source": [
    "x = {\"test\":[1,2,3]}"
   ]
  },
  {
   "cell_type": "code",
   "execution_count": 146,
   "metadata": {},
   "outputs": [
    {
     "data": {
      "text/plain": [
       "{'test': [1, 2, 3]}"
      ]
     },
     "execution_count": 146,
     "metadata": {},
     "output_type": "execute_result"
    }
   ],
   "source": [
    "x"
   ]
  },
  {
   "cell_type": "code",
   "execution_count": 147,
   "metadata": {},
   "outputs": [
    {
     "data": {
      "text/plain": [
       "[1, 2, 3]"
      ]
     },
     "execution_count": 147,
     "metadata": {},
     "output_type": "execute_result"
    }
   ],
   "source": [
    "x['test']"
   ]
  },
  {
   "cell_type": "code",
   "execution_count": 158,
   "metadata": {},
   "outputs": [],
   "source": [
    "x[\"test\"] = list(data.keys())"
   ]
  },
  {
   "cell_type": "code",
   "execution_count": 155,
   "metadata": {},
   "outputs": [
    {
     "data": {
      "text/plain": [
       "{'test': ['Cave and underground',\n",
       "  'Celestial and heaven',\n",
       "  'Desert',\n",
       "  'Temperate forest and woodland',\n",
       "  'Tropical forest and jungle',\n",
       "  'Temperate grassland and garden',\n",
       "  'Savanna',\n",
       "  'Lake and river',\n",
       "  'Mountain and hill',\n",
       "  'Sea',\n",
       "  'Swamp and marsh',\n",
       "  'Volcano and lava',\n",
       "  'Polar, ice, and winter',\n",
       "  'Urban and house']}"
      ]
     },
     "execution_count": 155,
     "metadata": {},
     "output_type": "execute_result"
    }
   ],
   "source": [
    "x"
   ]
  },
  {
   "cell_type": "code",
   "execution_count": 163,
   "metadata": {},
   "outputs": [
    {
     "data": {
      "text/plain": [
       "['Amphisbaena',\n",
       " 'Basilisk',\n",
       " 'Cockatrice',\n",
       " 'Ghoul',\n",
       " 'Mongolian Death Worm',\n",
       " 'Sphinx']"
      ]
     },
     "execution_count": 163,
     "metadata": {},
     "output_type": "execute_result"
    }
   ],
   "source": [
    "data[list(data.keys())[2]]"
   ]
  },
  {
   "cell_type": "code",
   "execution_count": null,
   "metadata": {},
   "outputs": [],
   "source": []
  }
 ],
 "metadata": {
  "kernelspec": {
   "display_name": "Python 3",
   "language": "python",
   "name": "python3"
  },
  "language_info": {
   "codemirror_mode": {
    "name": "ipython",
    "version": 3
   },
   "file_extension": ".py",
   "mimetype": "text/x-python",
   "name": "python",
   "nbconvert_exporter": "python",
   "pygments_lexer": "ipython3",
   "version": "3.6.5"
  }
 },
 "nbformat": 4,
 "nbformat_minor": 2
}
